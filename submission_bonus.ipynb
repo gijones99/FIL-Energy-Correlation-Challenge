{
 "cells": [
  {
   "cell_type": "code",
   "execution_count": null,
   "metadata": {},
   "outputs": [],
   "source": [
    "# source of new datasets.\n",
    "# # https://www.cso.ie/en/releasesandpublications/ep/p-dcmec/datacentresmeteredelectricityconsumption2020/keyfindings/#:~:text=The%20percentage%20of%20metered%20electricity,hours%20between%202015%20and%202020.\n",
    "\n",
    "## refer to DCMEC2020TBL1.xlsx, DCMEC2020TBL2.xlsx and MEC02.20221208T201208.csv\n",
    "## the last of which is the updated version of DCMEC2020TBL2.xlsx"
   ]
  },
  {
   "cell_type": "markdown",
   "metadata": {},
   "source": [
    "## Q1 \n",
    "\n",
    "### Find a dataset on the energy consumption of conventional data center storage and publish it on the Ocean Market. \n",
    "### Then, compare the energy performance of Filecoin storage to that of conventional data centers. What can you conclude?"
   ]
  },
  {
   "cell_type": "markdown",
   "metadata": {},
   "source": [
    "#### Find a dataset on the energy consumption of conventional data center storage and publish it on the Ocean Market: \n",
    "#### PUT LINK HERE?????"
   ]
  },
  {
   "cell_type": "markdown",
   "metadata": {},
   "source": [
    "#### Compare the energy performance of Filecoin storage to that of conventional data centers. What can you conclude?"
   ]
  },
  {
   "cell_type": "code",
   "execution_count": 1,
   "metadata": {},
   "outputs": [],
   "source": [
    "import pandas as pd"
   ]
  },
  {
   "cell_type": "markdown",
   "metadata": {},
   "source": [
    "### LOOKING AT RETRIEVED DATASETS"
   ]
  },
  {
   "cell_type": "code",
   "execution_count": 100,
   "metadata": {},
   "outputs": [
    {
     "data": {
      "text/html": [
       "<div>\n",
       "<style scoped>\n",
       "    .dataframe tbody tr th:only-of-type {\n",
       "        vertical-align: middle;\n",
       "    }\n",
       "\n",
       "    .dataframe tbody tr th {\n",
       "        vertical-align: top;\n",
       "    }\n",
       "\n",
       "    .dataframe thead th {\n",
       "        text-align: right;\n",
       "    }\n",
       "</style>\n",
       "<table border=\"1\" class=\"dataframe\">\n",
       "  <thead>\n",
       "    <tr style=\"text-align: right;\">\n",
       "      <th></th>\n",
       "      <th>Year</th>\n",
       "      <th>Data Centre</th>\n",
       "      <th>Other Metered Customers</th>\n",
       "      <th>Total</th>\n",
       "      <th>% Data Centre</th>\n",
       "    </tr>\n",
       "  </thead>\n",
       "  <tbody>\n",
       "    <tr>\n",
       "      <th>0</th>\n",
       "      <td>2015</td>\n",
       "      <td>1236</td>\n",
       "      <td>23364</td>\n",
       "      <td>24600</td>\n",
       "      <td>5</td>\n",
       "    </tr>\n",
       "    <tr>\n",
       "      <th>1</th>\n",
       "      <td>2016</td>\n",
       "      <td>1477</td>\n",
       "      <td>23879</td>\n",
       "      <td>25356</td>\n",
       "      <td>6</td>\n",
       "    </tr>\n",
       "    <tr>\n",
       "      <th>2</th>\n",
       "      <td>2017</td>\n",
       "      <td>1755</td>\n",
       "      <td>23970</td>\n",
       "      <td>25725</td>\n",
       "      <td>7</td>\n",
       "    </tr>\n",
       "    <tr>\n",
       "      <th>3</th>\n",
       "      <td>2018</td>\n",
       "      <td>2172</td>\n",
       "      <td>24558</td>\n",
       "      <td>26730</td>\n",
       "      <td>8</td>\n",
       "    </tr>\n",
       "    <tr>\n",
       "      <th>4</th>\n",
       "      <td>2019</td>\n",
       "      <td>2478</td>\n",
       "      <td>24027</td>\n",
       "      <td>26505</td>\n",
       "      <td>9</td>\n",
       "    </tr>\n",
       "    <tr>\n",
       "      <th>5</th>\n",
       "      <td>2020</td>\n",
       "      <td>3019</td>\n",
       "      <td>24037</td>\n",
       "      <td>27056</td>\n",
       "      <td>11</td>\n",
       "    </tr>\n",
       "  </tbody>\n",
       "</table>\n",
       "</div>"
      ],
      "text/plain": [
       "   Year  Data Centre  Other Metered Customers  Total  % Data Centre\n",
       "0  2015         1236                    23364  24600              5\n",
       "1  2016         1477                    23879  25356              6\n",
       "2  2017         1755                    23970  25725              7\n",
       "3  2018         2172                    24558  26730              8\n",
       "4  2019         2478                    24027  26505              9\n",
       "5  2020         3019                    24037  27056             11"
      ]
     },
     "execution_count": 100,
     "metadata": {},
     "output_type": "execute_result"
    }
   ],
   "source": [
    "df1 = pd.read_excel(\"DCMEC2020TBL1.xlsx\", skiprows=2) # data from ireland, data is in Gigawatt Hours (gWh)\n",
    "df1"
   ]
  },
  {
   "cell_type": "code",
   "execution_count": 7,
   "metadata": {},
   "outputs": [
    {
     "data": {
      "text/html": [
       "<div>\n",
       "<style scoped>\n",
       "    .dataframe tbody tr th:only-of-type {\n",
       "        vertical-align: middle;\n",
       "    }\n",
       "\n",
       "    .dataframe tbody tr th {\n",
       "        vertical-align: top;\n",
       "    }\n",
       "\n",
       "    .dataframe thead th {\n",
       "        text-align: right;\n",
       "    }\n",
       "</style>\n",
       "<table border=\"1\" class=\"dataframe\">\n",
       "  <thead>\n",
       "    <tr style=\"text-align: right;\">\n",
       "      <th></th>\n",
       "      <th>Year</th>\n",
       "      <th>Jan-Mar</th>\n",
       "      <th>Apr-Jun</th>\n",
       "      <th>Jul-Sep</th>\n",
       "      <th>Oct-Dec</th>\n",
       "      <th>Total</th>\n",
       "    </tr>\n",
       "  </thead>\n",
       "  <tbody>\n",
       "    <tr>\n",
       "      <th>0</th>\n",
       "      <td>2015</td>\n",
       "      <td>290</td>\n",
       "      <td>302</td>\n",
       "      <td>315</td>\n",
       "      <td>328</td>\n",
       "      <td>1236</td>\n",
       "    </tr>\n",
       "    <tr>\n",
       "      <th>1</th>\n",
       "      <td>2016</td>\n",
       "      <td>339</td>\n",
       "      <td>359</td>\n",
       "      <td>384</td>\n",
       "      <td>394</td>\n",
       "      <td>1477</td>\n",
       "    </tr>\n",
       "    <tr>\n",
       "      <th>2</th>\n",
       "      <td>2017</td>\n",
       "      <td>405</td>\n",
       "      <td>432</td>\n",
       "      <td>448</td>\n",
       "      <td>470</td>\n",
       "      <td>1755</td>\n",
       "    </tr>\n",
       "    <tr>\n",
       "      <th>3</th>\n",
       "      <td>2018</td>\n",
       "      <td>488</td>\n",
       "      <td>524</td>\n",
       "      <td>571</td>\n",
       "      <td>589</td>\n",
       "      <td>2172</td>\n",
       "    </tr>\n",
       "    <tr>\n",
       "      <th>4</th>\n",
       "      <td>2019</td>\n",
       "      <td>576</td>\n",
       "      <td>598</td>\n",
       "      <td>635</td>\n",
       "      <td>669</td>\n",
       "      <td>2478</td>\n",
       "    </tr>\n",
       "    <tr>\n",
       "      <th>5</th>\n",
       "      <td>2020</td>\n",
       "      <td>688</td>\n",
       "      <td>719</td>\n",
       "      <td>763</td>\n",
       "      <td>849</td>\n",
       "      <td>3019</td>\n",
       "    </tr>\n",
       "  </tbody>\n",
       "</table>\n",
       "</div>"
      ],
      "text/plain": [
       "   Year  Jan-Mar  Apr-Jun  Jul-Sep  Oct-Dec  Total\n",
       "0  2015      290      302      315      328   1236\n",
       "1  2016      339      359      384      394   1477\n",
       "2  2017      405      432      448      470   1755\n",
       "3  2018      488      524      571      589   2172\n",
       "4  2019      576      598      635      669   2478\n",
       "5  2020      688      719      763      849   3019"
      ]
     },
     "execution_count": 7,
     "metadata": {},
     "output_type": "execute_result"
    }
   ],
   "source": [
    "df2 = pd.read_excel(\"DCMEC2020TBL2.xlsx\", skiprows=2) #data is in Gigawatt Hours (gWh)\n",
    "df2"
   ]
  },
  {
   "cell_type": "code",
   "execution_count": 36,
   "metadata": {},
   "outputs": [
    {
     "data": {
      "text/html": [
       "<div>\n",
       "<style scoped>\n",
       "    .dataframe tbody tr th:only-of-type {\n",
       "        vertical-align: middle;\n",
       "    }\n",
       "\n",
       "    .dataframe tbody tr th {\n",
       "        vertical-align: top;\n",
       "    }\n",
       "\n",
       "    .dataframe thead th {\n",
       "        text-align: right;\n",
       "    }\n",
       "</style>\n",
       "<table border=\"1\" class=\"dataframe\">\n",
       "  <thead>\n",
       "    <tr style=\"text-align: right;\">\n",
       "      <th></th>\n",
       "      <th>Statistic Label</th>\n",
       "      <th>Quarter</th>\n",
       "      <th>Electricity Consumption</th>\n",
       "      <th>UNIT</th>\n",
       "      <th>VALUE</th>\n",
       "    </tr>\n",
       "  </thead>\n",
       "  <tbody>\n",
       "    <tr>\n",
       "      <th>0</th>\n",
       "      <td>Gigawatt hours</td>\n",
       "      <td>2015Q1</td>\n",
       "      <td>All metered electricity consumption</td>\n",
       "      <td>GWh</td>\n",
       "      <td>6565</td>\n",
       "    </tr>\n",
       "    <tr>\n",
       "      <th>1</th>\n",
       "      <td>Gigawatt hours</td>\n",
       "      <td>2015Q1</td>\n",
       "      <td>Data centres</td>\n",
       "      <td>GWh</td>\n",
       "      <td>290</td>\n",
       "    </tr>\n",
       "    <tr>\n",
       "      <th>2</th>\n",
       "      <td>Gigawatt hours</td>\n",
       "      <td>2015Q1</td>\n",
       "      <td>Customers other than data centres</td>\n",
       "      <td>GWh</td>\n",
       "      <td>6275</td>\n",
       "    </tr>\n",
       "    <tr>\n",
       "      <th>3</th>\n",
       "      <td>Gigawatt hours</td>\n",
       "      <td>2015Q2</td>\n",
       "      <td>All metered electricity consumption</td>\n",
       "      <td>GWh</td>\n",
       "      <td>6086</td>\n",
       "    </tr>\n",
       "    <tr>\n",
       "      <th>4</th>\n",
       "      <td>Gigawatt hours</td>\n",
       "      <td>2015Q2</td>\n",
       "      <td>Data centres</td>\n",
       "      <td>GWh</td>\n",
       "      <td>302</td>\n",
       "    </tr>\n",
       "  </tbody>\n",
       "</table>\n",
       "</div>"
      ],
      "text/plain": [
       "  Statistic Label Quarter              Electricity Consumption UNIT  VALUE\n",
       "0  Gigawatt hours  2015Q1  All metered electricity consumption  GWh   6565\n",
       "1  Gigawatt hours  2015Q1                         Data centres  GWh    290\n",
       "2  Gigawatt hours  2015Q1    Customers other than data centres  GWh   6275\n",
       "3  Gigawatt hours  2015Q2  All metered electricity consumption  GWh   6086\n",
       "4  Gigawatt hours  2015Q2                         Data centres  GWh    302"
      ]
     },
     "execution_count": 36,
     "metadata": {},
     "output_type": "execute_result"
    }
   ],
   "source": [
    "df3_preview = pd.read_csv(\"MEC02.20221208T201208.csv\")\n",
    "df3_preview.head()"
   ]
  },
  {
   "cell_type": "code",
   "execution_count": 31,
   "metadata": {},
   "outputs": [
    {
     "data": {
      "text/html": [
       "<div>\n",
       "<style scoped>\n",
       "    .dataframe tbody tr th:only-of-type {\n",
       "        vertical-align: middle;\n",
       "    }\n",
       "\n",
       "    .dataframe tbody tr th {\n",
       "        vertical-align: top;\n",
       "    }\n",
       "\n",
       "    .dataframe thead th {\n",
       "        text-align: right;\n",
       "    }\n",
       "</style>\n",
       "<table border=\"1\" class=\"dataframe\">\n",
       "  <thead>\n",
       "    <tr style=\"text-align: right;\">\n",
       "      <th></th>\n",
       "      <th>Quarter</th>\n",
       "      <th>Electricity Consumption</th>\n",
       "      <th>VALUE</th>\n",
       "    </tr>\n",
       "  </thead>\n",
       "  <tbody>\n",
       "    <tr>\n",
       "      <th>0</th>\n",
       "      <td>2015Q1</td>\n",
       "      <td>All metered electricity consumption</td>\n",
       "      <td>6565</td>\n",
       "    </tr>\n",
       "    <tr>\n",
       "      <th>1</th>\n",
       "      <td>2015Q1</td>\n",
       "      <td>Data centres</td>\n",
       "      <td>290</td>\n",
       "    </tr>\n",
       "    <tr>\n",
       "      <th>2</th>\n",
       "      <td>2015Q1</td>\n",
       "      <td>Customers other than data centres</td>\n",
       "      <td>6275</td>\n",
       "    </tr>\n",
       "    <tr>\n",
       "      <th>3</th>\n",
       "      <td>2015Q2</td>\n",
       "      <td>All metered electricity consumption</td>\n",
       "      <td>6086</td>\n",
       "    </tr>\n",
       "    <tr>\n",
       "      <th>4</th>\n",
       "      <td>2015Q2</td>\n",
       "      <td>Data centres</td>\n",
       "      <td>302</td>\n",
       "    </tr>\n",
       "    <tr>\n",
       "      <th>...</th>\n",
       "      <td>...</td>\n",
       "      <td>...</td>\n",
       "      <td>...</td>\n",
       "    </tr>\n",
       "    <tr>\n",
       "      <th>79</th>\n",
       "      <td>2021Q3</td>\n",
       "      <td>Data centres</td>\n",
       "      <td>1032</td>\n",
       "    </tr>\n",
       "    <tr>\n",
       "      <th>80</th>\n",
       "      <td>2021Q3</td>\n",
       "      <td>Customers other than data centres</td>\n",
       "      <td>5748</td>\n",
       "    </tr>\n",
       "    <tr>\n",
       "      <th>81</th>\n",
       "      <td>2021Q4</td>\n",
       "      <td>All metered electricity consumption</td>\n",
       "      <td>7158</td>\n",
       "    </tr>\n",
       "    <tr>\n",
       "      <th>82</th>\n",
       "      <td>2021Q4</td>\n",
       "      <td>Data centres</td>\n",
       "      <td>1058</td>\n",
       "    </tr>\n",
       "    <tr>\n",
       "      <th>83</th>\n",
       "      <td>2021Q4</td>\n",
       "      <td>Customers other than data centres</td>\n",
       "      <td>6099</td>\n",
       "    </tr>\n",
       "  </tbody>\n",
       "</table>\n",
       "<p>84 rows × 3 columns</p>\n",
       "</div>"
      ],
      "text/plain": [
       "   Quarter              Electricity Consumption  VALUE\n",
       "0   2015Q1  All metered electricity consumption   6565\n",
       "1   2015Q1                         Data centres    290\n",
       "2   2015Q1    Customers other than data centres   6275\n",
       "3   2015Q2  All metered electricity consumption   6086\n",
       "4   2015Q2                         Data centres    302\n",
       "..     ...                                  ...    ...\n",
       "79  2021Q3                         Data centres   1032\n",
       "80  2021Q3    Customers other than data centres   5748\n",
       "81  2021Q4  All metered electricity consumption   7158\n",
       "82  2021Q4                         Data centres   1058\n",
       "83  2021Q4    Customers other than data centres   6099\n",
       "\n",
       "[84 rows x 3 columns]"
      ]
     },
     "execution_count": 31,
     "metadata": {},
     "output_type": "execute_result"
    }
   ],
   "source": [
    "df3 = pd.read_csv(\"MEC02.20221208T201208.csv\").drop([\"Statistic Label\", \"UNIT\"], axis=1, inplace=False)\n",
    "df3"
   ]
  },
  {
   "cell_type": "code",
   "execution_count": 38,
   "metadata": {},
   "outputs": [
    {
     "name": "stderr",
     "output_type": "stream",
     "text": [
      "/Users/limjohn/opt/anaconda3/lib/python3.7/site-packages/ipykernel_launcher.py:2: SettingWithCopyWarning: \n",
      "A value is trying to be set on a copy of a slice from a DataFrame.\n",
      "Try using .loc[row_indexer,col_indexer] = value instead\n",
      "\n",
      "See the caveats in the documentation: https://pandas.pydata.org/pandas-docs/stable/user_guide/indexing.html#returning-a-view-versus-a-copy\n",
      "  \n"
     ]
    },
    {
     "data": {
      "text/html": [
       "<div>\n",
       "<style scoped>\n",
       "    .dataframe tbody tr th:only-of-type {\n",
       "        vertical-align: middle;\n",
       "    }\n",
       "\n",
       "    .dataframe tbody tr th {\n",
       "        vertical-align: top;\n",
       "    }\n",
       "\n",
       "    .dataframe thead th {\n",
       "        text-align: right;\n",
       "    }\n",
       "</style>\n",
       "<table border=\"1\" class=\"dataframe\">\n",
       "  <thead>\n",
       "    <tr style=\"text-align: right;\">\n",
       "      <th></th>\n",
       "      <th>Quarter</th>\n",
       "      <th>Electricity Consumption</th>\n",
       "      <th>VALUE</th>\n",
       "      <th>Start Date</th>\n",
       "    </tr>\n",
       "  </thead>\n",
       "  <tbody>\n",
       "    <tr>\n",
       "      <th>1</th>\n",
       "      <td>2015Q1</td>\n",
       "      <td>Data centres</td>\n",
       "      <td>290</td>\n",
       "      <td>2015-01-01</td>\n",
       "    </tr>\n",
       "    <tr>\n",
       "      <th>4</th>\n",
       "      <td>2015Q2</td>\n",
       "      <td>Data centres</td>\n",
       "      <td>302</td>\n",
       "      <td>2015-04-01</td>\n",
       "    </tr>\n",
       "    <tr>\n",
       "      <th>7</th>\n",
       "      <td>2015Q3</td>\n",
       "      <td>Data centres</td>\n",
       "      <td>315</td>\n",
       "      <td>2015-07-01</td>\n",
       "    </tr>\n",
       "    <tr>\n",
       "      <th>10</th>\n",
       "      <td>2015Q4</td>\n",
       "      <td>Data centres</td>\n",
       "      <td>328</td>\n",
       "      <td>2015-10-01</td>\n",
       "    </tr>\n",
       "    <tr>\n",
       "      <th>13</th>\n",
       "      <td>2016Q1</td>\n",
       "      <td>Data centres</td>\n",
       "      <td>339</td>\n",
       "      <td>2016-01-01</td>\n",
       "    </tr>\n",
       "  </tbody>\n",
       "</table>\n",
       "</div>"
      ],
      "text/plain": [
       "   Quarter Electricity Consumption  VALUE Start Date\n",
       "1   2015Q1            Data centres    290 2015-01-01\n",
       "4   2015Q2            Data centres    302 2015-04-01\n",
       "7   2015Q3            Data centres    315 2015-07-01\n",
       "10  2015Q4            Data centres    328 2015-10-01\n",
       "13  2016Q1            Data centres    339 2016-01-01"
      ]
     },
     "execution_count": 38,
     "metadata": {},
     "output_type": "execute_result"
    }
   ],
   "source": [
    "df3_dc = df3[df3[\"Electricity Consumption\"] == \"Data centres\"] # only data centres\n",
    "df3_dc['Start Date'] = pd.to_datetime(df3_dc['Quarter']) # converting to 1st date in the quarter.\n",
    "df3_dc.head()"
   ]
  },
  {
   "cell_type": "code",
   "execution_count": 35,
   "metadata": {},
   "outputs": [
    {
     "data": {
      "text/plain": [
       "Start Date\n",
       "2015    1235\n",
       "2016    1476\n",
       "2017    1755\n",
       "2018    2172\n",
       "2019    2478\n",
       "2020    3019\n",
       "2021    3993\n",
       "Freq: A-DEC, Name: VALUE, dtype: int64"
      ]
     },
     "execution_count": 35,
     "metadata": {},
     "output_type": "execute_result"
    }
   ],
   "source": [
    "# yearly consumption of electricity for Data Centres in Ireland\n",
    "df3_dc.groupby(df3_dc['Start Date'].dt.to_period('Y'))['VALUE'].sum() "
   ]
  },
  {
   "cell_type": "markdown",
   "metadata": {},
   "source": [
    "### COMPARING ONLINE DATA OF ENERGY CONSUMPTION WITH FILECOIN STORAGE "
   ]
  },
  {
   "cell_type": "code",
   "execution_count": null,
   "metadata": {},
   "outputs": [],
   "source": [
    "# from https://www.akcp.com/blog/the-real-amount-of-energy-a-data-center-use/\n",
    "## \"worldwide data centers likely consumed roughly 205 terawatt-hours (TWh) in 2018, or 1% of global power use\"\n",
    "## from df1, DC electricity consumption: 8% of electricity consumption in Ireland (2018) to 11% of electricity consumption in Ireland (2020),\n",
    "## as a result, we can expect some sort of increase in electricity consumption of DCs. \n",
    "\n",
    "## Assuming the rate of increase is exactly the same, \n",
    "## then we can assume that worldwide data centers would use about (11/8 * 1%) = 1.375% of global power use in 2020.\n",
    "## If we were to extrapolate to 2021, assuming a constant increase in power use,\n",
    "## then worldwide data centers would use about (11/8 * 1% * 3/2) = 2.0625% of global power use in 2021.\n",
    "\n",
    "# from https://www.statista.com/statistics/280704/world-power-consumption/\n",
    "## global power usage in 2021: 25343 tWh\n",
    "## Hence, estimated Power Usage of worldwide data centers (in 2021) = 2.0625% * 25343 = 522.699 tWh"
   ]
  },
  {
   "cell_type": "code",
   "execution_count": 72,
   "metadata": {},
   "outputs": [],
   "source": [
    "consum = pd.read_csv(\"FilecoinGreenEnergyConsumption-FilecoinGreenEnergyConsumption.csv\", \n",
    "                          parse_dates = ['Date'])\n",
    "consum[\"Date\"] = consum[\"Date\"].apply(lambda x: x.replace(tzinfo=None))\n"
   ]
  },
  {
   "cell_type": "code",
   "execution_count": 73,
   "metadata": {},
   "outputs": [],
   "source": [
    "def get_date_range(df,start_date, end_date):\n",
    "    mask = (df['Date'] > start_date) & (df['Date'] <= end_date)\n",
    "    return mask"
   ]
  },
  {
   "cell_type": "code",
   "execution_count": 93,
   "metadata": {},
   "outputs": [],
   "source": [
    "# finding the total amount of energy consumed per year (2020 and 2021)\n",
    "cum_energy_use_2020 = consum[get_date_range(consum,\"2020-01-01\",\"2020-12-31\")][\"Cumulative energy use estimate\"] \n",
    "cum_energy_use_2021 = consum[get_date_range(consum,\"2021-01-01\",\"2021-12-31\")][\"Cumulative energy use estimate\"].reset_index(drop=True) \n",
    "\n",
    "# value on last day of year minus value of 1st day\n",
    "energy_used_2020 = cum_energy_use_2020[-1:].values[0] - cum_energy_use_2020[0] \n",
    "energy_used_2021 = cum_energy_use_2021[-1:].values[0] - cum_energy_use_2021[0]"
   ]
  },
  {
   "cell_type": "code",
   "execution_count": 98,
   "metadata": {},
   "outputs": [
    {
     "data": {
      "text/plain": [
       "0.1281143749887"
      ]
     },
     "execution_count": 98,
     "metadata": {},
     "output_type": "execute_result"
    }
   ],
   "source": [
    "# total amount of energy consumed in 2020 in tWh\n",
    "energy_used_2020/(10**9)"
   ]
  },
  {
   "cell_type": "code",
   "execution_count": 99,
   "metadata": {},
   "outputs": [
    {
     "data": {
      "text/plain": [
       "1.1980393755"
      ]
     },
     "execution_count": 99,
     "metadata": {},
     "output_type": "execute_result"
    }
   ],
   "source": [
    "#  total amount of energy consumed in 2020 in tWh\n",
    "energy_used_2021/(10**9)"
   ]
  },
  {
   "cell_type": "code",
   "execution_count": 103,
   "metadata": {},
   "outputs": [],
   "source": [
    "# finding the total amount of energy consumed per year (2020 and 2021)\n",
    "cum_energy_use_2020_upper = consum[get_date_range(consum,\"2020-01-01\",\"2020-12-31\")][\"Cumulative energy use upper bound\"] \n",
    "cum_energy_use_2021_upper = consum[get_date_range(consum,\"2021-01-01\",\"2021-12-31\")][\"Cumulative energy use upper bound\"].reset_index(drop=True) \n",
    "\n",
    "# value on last day of year minus value of 1st day\n",
    "energy_used_2020_upper = cum_energy_use_2020_upper[-1:].values[0] - cum_energy_use_2020_upper[0] \n",
    "energy_used_2021_upper = cum_energy_use_2021_upper[-1:].values[0] - cum_energy_use_2021_upper[0]"
   ]
  },
  {
   "cell_type": "code",
   "execution_count": 105,
   "metadata": {},
   "outputs": [
    {
     "name": "stdout",
     "output_type": "stream",
     "text": [
      "Total Energy Used in 2021 for global data centres: 522.699 tWh\n",
      "Total Energy Used in 2021 for Filecoin storage: 1.1980393755 tWh\n",
      "Total Energy Used (upper bound estimate) in 2021 for Filecoin storage: 2.9087399095 tWh\n"
     ]
    }
   ],
   "source": [
    "# Comparing energy consumption of Filecoin Network & Global Data Centres\n",
    "print(f\"Total Energy Used in 2021 for global data centres: 522.699 tWh\") \n",
    "print(f\"Total Energy Used in 2021 for Filecoin storage: {energy_used_2021/(10**9)} tWh\") \n",
    "print(f\"Total Energy Used (upper bound estimate) in 2021 for Filecoin storage: {energy_used_2021_upper/(10**9)} tWh\") "
   ]
  },
  {
   "cell_type": "markdown",
   "metadata": {},
   "source": [
    "### Comparing the energy performance of Filecoin storage to that of conventional data centers, \n",
    "### there is a significant amount of energy saving using Filecoin storage as compared to traditional data centers, \n",
    "### even if we look at the upper bound of the energy consumption, as seen above. \n",
    "### There is an approx 520 tWh of energy savings in the year of 2021. "
   ]
  }
 ],
 "metadata": {
  "kernelspec": {
   "display_name": "Python 3.7.4 ('base')",
   "language": "python",
   "name": "python3"
  },
  "language_info": {
   "codemirror_mode": {
    "name": "ipython",
    "version": 3
   },
   "file_extension": ".py",
   "mimetype": "text/x-python",
   "name": "python",
   "nbconvert_exporter": "python",
   "pygments_lexer": "ipython3",
   "version": "3.7.4"
  },
  "orig_nbformat": 4,
  "vscode": {
   "interpreter": {
    "hash": "3926a454e6f305e3fd7820c6aac3c4b60cb3aed932b8f3797d912b033336821e"
   }
  }
 },
 "nbformat": 4,
 "nbformat_minor": 2
}
