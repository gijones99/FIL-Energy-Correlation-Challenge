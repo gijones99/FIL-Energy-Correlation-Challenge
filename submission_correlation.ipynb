{
 "cells": [
  {
   "cell_type": "code",
   "execution_count": 1,
   "metadata": {},
   "outputs": [],
   "source": [
    "import numpy as np\n",
    "import pandas as pd\n",
    "from scipy.stats import norm\n",
    "import scipy.stats as si"
   ]
  },
  {
   "cell_type": "markdown",
   "metadata": {},
   "source": [
    "## QUESTIONS\n",
    "### 1. Determine the correlation between the energy used to seal the Filecoin data and the price of its $FIL token (5 pts)\n",
    "### 2. Determine the correlation between the capacity of storage added per day in the Filecoin network and the price of its $FIL token (5pts)\n",
    "### 3. Determine the correlation between the energy consumption rate of the Filecoin network and its $FIL token price (5 pts)\n",
    "### 4. What observations can you deduce from these 3 correlations? (5 pts)\n"
   ]
  },
  {
   "cell_type": "markdown",
   "metadata": {},
   "source": [
    "# IMPORTING DATA"
   ]
  },
  {
   "cell_type": "code",
   "execution_count": 2,
   "metadata": {},
   "outputs": [],
   "source": [
    "consum = pd.read_csv(\"FilecoinGreenEnergyConsumption-FilecoinGreenEnergyConsumption.csv\", \n",
    "                          parse_dates = ['Date'])\n",
    "\n",
    "# removing timezone for plotting\n",
    "consum[\"Date\"] = consum[\"Date\"].apply(lambda x: x.replace(tzinfo=None))"
   ]
  },
  {
   "cell_type": "code",
   "execution_count": 3,
   "metadata": {},
   "outputs": [],
   "source": [
    "filusd = pd.read_csv(\"FIL-USD-FIL-USD.csv\", parse_dates = ['Date'])\n",
    "filusd['Log Returns'] = np.log(filusd['Adj Close']/filusd['Adj Close'].shift(1))\n",
    "filusd_relevant = filusd[[\"Date\",\"Adj Close\",'Log Returns']]\n",
    "filusd_relevant = filusd_relevant.rename({\"Adj Close\": \"Price\"}, axis=1)"
   ]
  },
  {
   "cell_type": "code",
   "execution_count": 4,
   "metadata": {},
   "outputs": [],
   "source": [
    "merged = consum.merge(filusd_relevant, on=\"Date\") #merging price & returns dataframe with the consumption date acc to date."
   ]
  },
  {
   "cell_type": "markdown",
   "metadata": {},
   "source": [
    "## VANILLA CORRELATION"
   ]
  },
  {
   "cell_type": "code",
   "execution_count": 5,
   "metadata": {},
   "outputs": [
    {
     "data": {
      "text/html": [
       "<div>\n",
       "<style scoped>\n",
       "    .dataframe tbody tr th:only-of-type {\n",
       "        vertical-align: middle;\n",
       "    }\n",
       "\n",
       "    .dataframe tbody tr th {\n",
       "        vertical-align: top;\n",
       "    }\n",
       "\n",
       "    .dataframe thead th {\n",
       "        text-align: right;\n",
       "    }\n",
       "</style>\n",
       "<table border=\"1\" class=\"dataframe\">\n",
       "  <thead>\n",
       "    <tr style=\"text-align: right;\">\n",
       "      <th></th>\n",
       "      <th>Data storage capacity added per day</th>\n",
       "      <th>Energy consumption rate estimate</th>\n",
       "      <th>Energy used to seal data estimate</th>\n",
       "      <th>Price</th>\n",
       "    </tr>\n",
       "  </thead>\n",
       "  <tbody>\n",
       "    <tr>\n",
       "      <th>Data storage capacity added per day</th>\n",
       "      <td>1.000000</td>\n",
       "      <td>0.635297</td>\n",
       "      <td>1.000000</td>\n",
       "      <td>0.583667</td>\n",
       "    </tr>\n",
       "    <tr>\n",
       "      <th>Energy consumption rate estimate</th>\n",
       "      <td>0.635297</td>\n",
       "      <td>1.000000</td>\n",
       "      <td>0.635297</td>\n",
       "      <td>0.083658</td>\n",
       "    </tr>\n",
       "    <tr>\n",
       "      <th>Energy used to seal data estimate</th>\n",
       "      <td>1.000000</td>\n",
       "      <td>0.635297</td>\n",
       "      <td>1.000000</td>\n",
       "      <td>0.583667</td>\n",
       "    </tr>\n",
       "    <tr>\n",
       "      <th>Price</th>\n",
       "      <td>0.583667</td>\n",
       "      <td>0.083658</td>\n",
       "      <td>0.583667</td>\n",
       "      <td>1.000000</td>\n",
       "    </tr>\n",
       "  </tbody>\n",
       "</table>\n",
       "</div>"
      ],
      "text/plain": [
       "                                     Data storage capacity added per day  \\\n",
       "Data storage capacity added per day                             1.000000   \n",
       "Energy consumption rate estimate                                0.635297   \n",
       "Energy used to seal data estimate                               1.000000   \n",
       "Price                                                           0.583667   \n",
       "\n",
       "                                     Energy consumption rate estimate  \\\n",
       "Data storage capacity added per day                          0.635297   \n",
       "Energy consumption rate estimate                             1.000000   \n",
       "Energy used to seal data estimate                            0.635297   \n",
       "Price                                                        0.083658   \n",
       "\n",
       "                                     Energy used to seal data estimate  \\\n",
       "Data storage capacity added per day                           1.000000   \n",
       "Energy consumption rate estimate                              0.635297   \n",
       "Energy used to seal data estimate                             1.000000   \n",
       "Price                                                         0.583667   \n",
       "\n",
       "                                        Price  \n",
       "Data storage capacity added per day  0.583667  \n",
       "Energy consumption rate estimate     0.083658  \n",
       "Energy used to seal data estimate    0.583667  \n",
       "Price                                1.000000  "
      ]
     },
     "execution_count": 5,
     "metadata": {},
     "output_type": "execute_result"
    }
   ],
   "source": [
    "corr_matrix = merged[[\"Data storage capacity added per day\", \"Energy consumption rate estimate\", \"Energy used to seal data estimate\", \"Price\"]].corr()\n",
    "corr_matrix"
   ]
  },
  {
   "cell_type": "code",
   "execution_count": 6,
   "metadata": {},
   "outputs": [
    {
     "data": {
      "text/plain": [
       "(0.5836671865903876, 9.075065379224059e-73)"
      ]
     },
     "execution_count": 6,
     "metadata": {},
     "output_type": "execute_result"
    }
   ],
   "source": [
    "# Correlation between the energy used to seal the Filecoin data and the price of its $FIL token & p-value\n",
    "corr_pair1 = si.pearsonr(merged[\"Energy used to seal data estimate\"], merged[\"Price\"])\n",
    "corr_pair1"
   ]
  },
  {
   "cell_type": "code",
   "execution_count": 7,
   "metadata": {},
   "outputs": [
    {
     "data": {
      "text/plain": [
       "(0.5836671865917777, 9.075065370468663e-73)"
      ]
     },
     "execution_count": 7,
     "metadata": {},
     "output_type": "execute_result"
    }
   ],
   "source": [
    "# Correlation between the capacity of storage added per day in the Filecoin network and the price of its $FIL token & p-value\n",
    "corr_pair2 = si.pearsonr(merged[\"Data storage capacity added per day\"], merged[\"Price\"])\n",
    "corr_pair2"
   ]
  },
  {
   "cell_type": "code",
   "execution_count": 8,
   "metadata": {},
   "outputs": [
    {
     "data": {
      "text/plain": [
       "(0.08365776171487421, 0.019140267126659852)"
      ]
     },
     "execution_count": 8,
     "metadata": {},
     "output_type": "execute_result"
    }
   ],
   "source": [
    "# Correlation between the energy consumption rate of the Filecoin network and its $FIL token price & p-value\n",
    "corr_pair3 = si.pearsonr(merged['Energy consumption rate estimate'], merged[\"Price\"])\n",
    "corr_pair3"
   ]
  },
  {
   "cell_type": "code",
   "execution_count": 9,
   "metadata": {},
   "outputs": [
    {
     "name": "stdout",
     "output_type": "stream",
     "text": [
      "Q1. Correlation: 0.5836671865903876, p-value: 9.075065379224059e-73. Statistically Significant (significance lvl = 5%)?: True \n",
      "Q2. Correlation: 0.5836671865917777, p-value: 9.075065370468663e-73. Statistically Significant (significance lvl = 5%)?: True \n",
      "Q3. Correlation: 0.08365776171487421, p-value: 0.019140267126659852. Statistically Significant (significance lvl = 5%)?: True \n"
     ]
    }
   ],
   "source": [
    "print(f'Q1. Correlation: {corr_pair1[0]}, p-value: {corr_pair1[1]}. Statistically Significant (significance lvl = 5%)?: {corr_pair1[1] < 0.05} ')\n",
    "print(f'Q2. Correlation: {corr_pair2[0]}, p-value: {corr_pair2[1]}. Statistically Significant (significance lvl = 5%)?: {corr_pair2[1] < 0.05} ')\n",
    "print(f'Q3. Correlation: {corr_pair3[0]}, p-value: {corr_pair3[1]}. Statistically Significant (significance lvl = 5%)?: {corr_pair3[1] < 0.05} ')\n"
   ]
  },
  {
   "cell_type": "markdown",
   "metadata": {},
   "source": [
    "### Q1. \n",
    "- Correlation: 0.5836671865903876 \n",
    "- p-value: 9.075065379224059e-73\n",
    "- Statistically Significant (significance lvl = 5%)?: True\n",
    "### Q2. \n",
    "- Correlation: 0.5836671865917777\n",
    "- p-value: 9.075065370468663e-73\n",
    "- Statistically Significant (significance lvl = 5%)?: True \n",
    "### Q3. \n",
    "- Correlation: 0.08365776171487421\n",
    "- p-value: 0.019140267126659852 \n",
    "- Statistically Significant (significance lvl = 5%)?: True\n"
   ]
  },
  {
   "attachments": {},
   "cell_type": "markdown",
   "metadata": {},
   "source": [
    "### Q4. What observations can you deduce from these 3 correlations?\n",
    "- All correlations are statistically significant at 5% level of significance.\n",
    "- Moderate positive correlation between prices of FIL token and energy used to seal the Filecoin data. (0.5836671865903877)\n",
    "- Moderate positive correlation between prices of FIL token and capacity of storage added per day in the Filecoin network. (0.5836671865917775). \n",
    "        -> This would mean that the variance of capacity of storage added per day can be partially \"explained\" by the prices of FIL token.\n",
    "\n",
    "- The correlations of FIL and each of the 2 variables is almost equal. This is because the 2 variables are perfectly correlated (corr = 1) due to the fact that \"Energy use due to sealing is estimated by multiplying the increase in storage capacity over a given time period by a constant value\". \n",
    "\n",
    "- Low (almost negligible) positive correlation between prices of FIL token and energy consumption rate of the Filecoin network. (0.08365776171487402)\n",
    "- Energy consumption rate of the Filecoin network is relatively uncorrelated with the price of FIL token."
   ]
  }
 ],
 "metadata": {
  "kernelspec": {
   "display_name": "Python 3.7.4 ('base')",
   "language": "python",
   "name": "python3"
  },
  "language_info": {
   "codemirror_mode": {
    "name": "ipython",
    "version": 3
   },
   "file_extension": ".py",
   "mimetype": "text/x-python",
   "name": "python",
   "nbconvert_exporter": "python",
   "pygments_lexer": "ipython3",
   "version": "3.7.4 (default, Aug 13 2019, 15:17:50) \n[Clang 4.0.1 (tags/RELEASE_401/final)]"
  },
  "orig_nbformat": 4,
  "vscode": {
   "interpreter": {
    "hash": "3926a454e6f305e3fd7820c6aac3c4b60cb3aed932b8f3797d912b033336821e"
   }
  }
 },
 "nbformat": 4,
 "nbformat_minor": 2
}
