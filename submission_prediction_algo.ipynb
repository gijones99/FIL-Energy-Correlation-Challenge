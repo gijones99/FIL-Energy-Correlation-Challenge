{
 "cells": [
  {
   "cell_type": "code",
   "execution_count": 78,
   "metadata": {},
   "outputs": [],
   "source": [
    "import numpy as np\n",
    "import pandas as pd\n",
    "from scipy.stats import norm\n",
    "import scipy.stats as si\n",
    "from sklearn.model_selection import train_test_split\n",
    "from sklearn.linear_model import LinearRegression\n",
    "from sklearn import metrics\n",
    "import datetime\n",
    "import matplotlib.pyplot as plt"
   ]
  },
  {
   "cell_type": "code",
   "execution_count": 2,
   "metadata": {},
   "outputs": [],
   "source": [
    "def get_date_range(df,start_date, end_date):\n",
    "    mask = (df['Date'] >= start_date) & (df['Date'] <= end_date)\n",
    "    return mask"
   ]
  },
  {
   "cell_type": "code",
   "execution_count": 3,
   "metadata": {},
   "outputs": [
    {
     "data": {
      "text/html": [
       "<div>\n",
       "<style scoped>\n",
       "    .dataframe tbody tr th:only-of-type {\n",
       "        vertical-align: middle;\n",
       "    }\n",
       "\n",
       "    .dataframe tbody tr th {\n",
       "        vertical-align: top;\n",
       "    }\n",
       "\n",
       "    .dataframe thead th {\n",
       "        text-align: right;\n",
       "    }\n",
       "</style>\n",
       "<table border=\"1\" class=\"dataframe\">\n",
       "  <thead>\n",
       "    <tr style=\"text-align: right;\">\n",
       "      <th></th>\n",
       "      <th>Date</th>\n",
       "      <th>Data storage capacity</th>\n",
       "      <th>Data storage capacity added per day</th>\n",
       "      <th>Cumulative renewable energy purchases</th>\n",
       "      <th>Energy intensity lower bound</th>\n",
       "      <th>Energy intensity estimate</th>\n",
       "      <th>Energy intensity upper bound</th>\n",
       "      <th>Energy consumption rate lower bound</th>\n",
       "      <th>Energy consumption rate estimate</th>\n",
       "      <th>Energy consumption rate upper bound</th>\n",
       "      <th>Energy used to seal data lower bound</th>\n",
       "      <th>Energy used to seal data estimate</th>\n",
       "      <th>Energy used to seal data upper bound</th>\n",
       "      <th>Cumulative energy use lower bound</th>\n",
       "      <th>Cumulative energy use estimate</th>\n",
       "      <th>Cumulative energy use upper bound</th>\n",
       "      <th>Energy used to store data lower bound</th>\n",
       "      <th>Energy used to store data estimate</th>\n",
       "      <th>Energy used to store data upper bound</th>\n",
       "    </tr>\n",
       "  </thead>\n",
       "  <tbody>\n",
       "    <tr>\n",
       "      <th>0</th>\n",
       "      <td>2020-08-24</td>\n",
       "      <td>498448</td>\n",
       "      <td>2053024</td>\n",
       "      <td>15734658.47</td>\n",
       "      <td>1404.098113</td>\n",
       "      <td>10618.245610</td>\n",
       "      <td>21402.982540</td>\n",
       "      <td>651.804634</td>\n",
       "      <td>4929.158175</td>\n",
       "      <td>9935.604259</td>\n",
       "      <td>551.893912</td>\n",
       "      <td>3137.985593</td>\n",
       "      <td>5143.64633</td>\n",
       "      <td>15643.17893</td>\n",
       "      <td>1.182999e+05</td>\n",
       "      <td>2.384543e+05</td>\n",
       "      <td>0.482896</td>\n",
       "      <td>1.605601</td>\n",
       "      <td>4.335152</td>\n",
       "    </tr>\n",
       "    <tr>\n",
       "      <th>1</th>\n",
       "      <td>2020-08-25</td>\n",
       "      <td>9237744</td>\n",
       "      <td>13984256</td>\n",
       "      <td>16020743.17</td>\n",
       "      <td>516.832219</td>\n",
       "      <td>3906.016457</td>\n",
       "      <td>7877.754829</td>\n",
       "      <td>4446.472725</td>\n",
       "      <td>33604.707650</td>\n",
       "      <td>67774.841940</td>\n",
       "      <td>3759.247698</td>\n",
       "      <td>21374.515770</td>\n",
       "      <td>35036.15498</td>\n",
       "      <td>122357.62330</td>\n",
       "      <td>9.248137e+05</td>\n",
       "      <td>1.865049e+06</td>\n",
       "      <td>8.949526</td>\n",
       "      <td>29.756621</td>\n",
       "      <td>80.343431</td>\n",
       "    </tr>\n",
       "    <tr>\n",
       "      <th>2</th>\n",
       "      <td>2020-08-26</td>\n",
       "      <td>22553828</td>\n",
       "      <td>13212864</td>\n",
       "      <td>16306827.87</td>\n",
       "      <td>200.762976</td>\n",
       "      <td>1514.930303</td>\n",
       "      <td>3059.685608</td>\n",
       "      <td>4217.004054</td>\n",
       "      <td>31820.943110</td>\n",
       "      <td>64268.357070</td>\n",
       "      <td>3551.882100</td>\n",
       "      <td>20195.466240</td>\n",
       "      <td>33103.50947</td>\n",
       "      <td>223564.86940</td>\n",
       "      <td>1.688517e+06</td>\n",
       "      <td>3.407488e+06</td>\n",
       "      <td>21.850149</td>\n",
       "      <td>72.650391</td>\n",
       "      <td>196.157408</td>\n",
       "    </tr>\n",
       "    <tr>\n",
       "      <th>3</th>\n",
       "      <td>2020-08-27</td>\n",
       "      <td>36361328</td>\n",
       "      <td>14277536</td>\n",
       "      <td>16592912.57</td>\n",
       "      <td>134.966149</td>\n",
       "      <td>1017.172660</td>\n",
       "      <td>2056.697582</td>\n",
       "      <td>4570.510617</td>\n",
       "      <td>34445.662720</td>\n",
       "      <td>69648.265260</td>\n",
       "      <td>3838.087228</td>\n",
       "      <td>21822.785450</td>\n",
       "      <td>35770.93869</td>\n",
       "      <td>333256.20430</td>\n",
       "      <td>2.515214e+06</td>\n",
       "      <td>5.079045e+06</td>\n",
       "      <td>35.226855</td>\n",
       "      <td>117.127110</td>\n",
       "      <td>316.245378</td>\n",
       "    </tr>\n",
       "    <tr>\n",
       "      <th>4</th>\n",
       "      <td>2020-08-28</td>\n",
       "      <td>51427203</td>\n",
       "      <td>16174560</td>\n",
       "      <td>16878997.27</td>\n",
       "      <td>108.350558</td>\n",
       "      <td>815.823835</td>\n",
       "      <td>1650.977121</td>\n",
       "      <td>5189.484114</td>\n",
       "      <td>39074.139640</td>\n",
       "      <td>79074.069440</td>\n",
       "      <td>4348.045219</td>\n",
       "      <td>24722.329720</td>\n",
       "      <td>40523.74262</td>\n",
       "      <td>457802.78090</td>\n",
       "      <td>3.452994e+06</td>\n",
       "      <td>6.976821e+06</td>\n",
       "      <td>49.822674</td>\n",
       "      <td>165.657306</td>\n",
       "      <td>447.277813</td>\n",
       "    </tr>\n",
       "  </tbody>\n",
       "</table>\n",
       "</div>"
      ],
      "text/plain": [
       "        Date  Data storage capacity  Data storage capacity added per day  \\\n",
       "0 2020-08-24                 498448                              2053024   \n",
       "1 2020-08-25                9237744                             13984256   \n",
       "2 2020-08-26               22553828                             13212864   \n",
       "3 2020-08-27               36361328                             14277536   \n",
       "4 2020-08-28               51427203                             16174560   \n",
       "\n",
       "   Cumulative renewable energy purchases  Energy intensity lower bound  \\\n",
       "0                            15734658.47                   1404.098113   \n",
       "1                            16020743.17                    516.832219   \n",
       "2                            16306827.87                    200.762976   \n",
       "3                            16592912.57                    134.966149   \n",
       "4                            16878997.27                    108.350558   \n",
       "\n",
       "   Energy intensity estimate  Energy intensity upper bound  \\\n",
       "0               10618.245610                  21402.982540   \n",
       "1                3906.016457                   7877.754829   \n",
       "2                1514.930303                   3059.685608   \n",
       "3                1017.172660                   2056.697582   \n",
       "4                 815.823835                   1650.977121   \n",
       "\n",
       "   Energy consumption rate lower bound  Energy consumption rate estimate  \\\n",
       "0                           651.804634                       4929.158175   \n",
       "1                          4446.472725                      33604.707650   \n",
       "2                          4217.004054                      31820.943110   \n",
       "3                          4570.510617                      34445.662720   \n",
       "4                          5189.484114                      39074.139640   \n",
       "\n",
       "   Energy consumption rate upper bound  Energy used to seal data lower bound  \\\n",
       "0                          9935.604259                            551.893912   \n",
       "1                         67774.841940                           3759.247698   \n",
       "2                         64268.357070                           3551.882100   \n",
       "3                         69648.265260                           3838.087228   \n",
       "4                         79074.069440                           4348.045219   \n",
       "\n",
       "   Energy used to seal data estimate  Energy used to seal data upper bound  \\\n",
       "0                        3137.985593                            5143.64633   \n",
       "1                       21374.515770                           35036.15498   \n",
       "2                       20195.466240                           33103.50947   \n",
       "3                       21822.785450                           35770.93869   \n",
       "4                       24722.329720                           40523.74262   \n",
       "\n",
       "   Cumulative energy use lower bound  Cumulative energy use estimate  \\\n",
       "0                        15643.17893                    1.182999e+05   \n",
       "1                       122357.62330                    9.248137e+05   \n",
       "2                       223564.86940                    1.688517e+06   \n",
       "3                       333256.20430                    2.515214e+06   \n",
       "4                       457802.78090                    3.452994e+06   \n",
       "\n",
       "   Cumulative energy use upper bound  Energy used to store data lower bound  \\\n",
       "0                       2.384543e+05                               0.482896   \n",
       "1                       1.865049e+06                               8.949526   \n",
       "2                       3.407488e+06                              21.850149   \n",
       "3                       5.079045e+06                              35.226855   \n",
       "4                       6.976821e+06                              49.822674   \n",
       "\n",
       "   Energy used to store data estimate  Energy used to store data upper bound  \n",
       "0                            1.605601                               4.335152  \n",
       "1                           29.756621                              80.343431  \n",
       "2                           72.650391                             196.157408  \n",
       "3                          117.127110                             316.245378  \n",
       "4                          165.657306                             447.277813  "
      ]
     },
     "execution_count": 3,
     "metadata": {},
     "output_type": "execute_result"
    }
   ],
   "source": [
    "consum = pd.read_csv(\"FilecoinGreenEnergyConsumption-FilecoinGreenEnergyConsumption.csv\", \n",
    "                          parse_dates = ['Date'])\n",
    "# removing timezone for plotting\n",
    "consum[\"Date\"] = consum[\"Date\"].apply(lambda x: x.replace(tzinfo=None))\n",
    "consum.head()"
   ]
  },
  {
   "cell_type": "code",
   "execution_count": 4,
   "metadata": {},
   "outputs": [],
   "source": [
    "filusd = pd.read_csv(\"FIL-USD-FIL-USD.csv\", parse_dates = ['Date'])\n",
    "filusd['Log Returns'] = np.log(filusd['Adj Close']/filusd['Adj Close'].shift(1))\n",
    "filusd_relevant = filusd[[\"Date\",\"Adj Close\",'Log Returns']]\n",
    "filusd_relevant = filusd_relevant.rename({\"Adj Close\": \"FIL Price\"}, axis=1)"
   ]
  },
  {
   "cell_type": "code",
   "execution_count": 5,
   "metadata": {},
   "outputs": [
    {
     "data": {
      "text/html": [
       "<div>\n",
       "<style scoped>\n",
       "    .dataframe tbody tr th:only-of-type {\n",
       "        vertical-align: middle;\n",
       "    }\n",
       "\n",
       "    .dataframe tbody tr th {\n",
       "        vertical-align: top;\n",
       "    }\n",
       "\n",
       "    .dataframe thead th {\n",
       "        text-align: right;\n",
       "    }\n",
       "</style>\n",
       "<table border=\"1\" class=\"dataframe\">\n",
       "  <thead>\n",
       "    <tr style=\"text-align: right;\">\n",
       "      <th></th>\n",
       "      <th>Date</th>\n",
       "      <th>Electricity Price</th>\n",
       "    </tr>\n",
       "  </thead>\n",
       "  <tbody>\n",
       "    <tr>\n",
       "      <th>0</th>\n",
       "      <td>2020-01-01</td>\n",
       "      <td>0.134</td>\n",
       "    </tr>\n",
       "    <tr>\n",
       "      <th>1</th>\n",
       "      <td>2020-02-01</td>\n",
       "      <td>0.134</td>\n",
       "    </tr>\n",
       "    <tr>\n",
       "      <th>2</th>\n",
       "      <td>2020-03-01</td>\n",
       "      <td>0.134</td>\n",
       "    </tr>\n",
       "    <tr>\n",
       "      <th>3</th>\n",
       "      <td>2020-04-01</td>\n",
       "      <td>0.133</td>\n",
       "    </tr>\n",
       "    <tr>\n",
       "      <th>4</th>\n",
       "      <td>2020-05-01</td>\n",
       "      <td>0.134</td>\n",
       "    </tr>\n",
       "  </tbody>\n",
       "</table>\n",
       "</div>"
      ],
      "text/plain": [
       "        Date  Electricity Price\n",
       "0 2020-01-01              0.134\n",
       "1 2020-02-01              0.134\n",
       "2 2020-03-01              0.134\n",
       "3 2020-04-01              0.133\n",
       "4 2020-05-01              0.134"
      ]
     },
     "execution_count": 5,
     "metadata": {},
     "output_type": "execute_result"
    }
   ],
   "source": [
    "# Data for USA electricity prices: https://data.bls.gov/timeseries/APU000072610?amp%253bdata_tool=XGtable&output_view=data&include_graphs=true\n",
    "elec_prices = pd.read_excel(\"usa_electricity_prices.xlsx\", sheet_name=\"DF Format\", parse_dates= [\"Date\"]) # I manually transposed the data\n",
    "elec_prices.head()"
   ]
  },
  {
   "cell_type": "code",
   "execution_count": 6,
   "metadata": {},
   "outputs": [],
   "source": [
    "# adding dummy date for December 2022 so the prices can fill up in the subsequent steps.\n",
    "new_row = pd.DataFrame({\"Date\": datetime.datetime(2022,12,1,0,0,0), \"Electricity Price\": 0.0}, index = [len(elec_prices)])\n",
    "elec_prices = elec_prices.append(new_row)"
   ]
  },
  {
   "cell_type": "code",
   "execution_count": 7,
   "metadata": {},
   "outputs": [
    {
     "data": {
      "text/html": [
       "<div>\n",
       "<style scoped>\n",
       "    .dataframe tbody tr th:only-of-type {\n",
       "        vertical-align: middle;\n",
       "    }\n",
       "\n",
       "    .dataframe tbody tr th {\n",
       "        vertical-align: top;\n",
       "    }\n",
       "\n",
       "    .dataframe thead th {\n",
       "        text-align: right;\n",
       "    }\n",
       "</style>\n",
       "<table border=\"1\" class=\"dataframe\">\n",
       "  <thead>\n",
       "    <tr style=\"text-align: right;\">\n",
       "      <th></th>\n",
       "      <th>Date</th>\n",
       "      <th>Electricity Price</th>\n",
       "    </tr>\n",
       "  </thead>\n",
       "  <tbody>\n",
       "    <tr>\n",
       "      <th>0</th>\n",
       "      <td>2020-01-01</td>\n",
       "      <td>0.134</td>\n",
       "    </tr>\n",
       "    <tr>\n",
       "      <th>1</th>\n",
       "      <td>2020-01-02</td>\n",
       "      <td>0.134</td>\n",
       "    </tr>\n",
       "    <tr>\n",
       "      <th>2</th>\n",
       "      <td>2020-01-03</td>\n",
       "      <td>0.134</td>\n",
       "    </tr>\n",
       "    <tr>\n",
       "      <th>3</th>\n",
       "      <td>2020-01-04</td>\n",
       "      <td>0.134</td>\n",
       "    </tr>\n",
       "    <tr>\n",
       "      <th>4</th>\n",
       "      <td>2020-01-05</td>\n",
       "      <td>0.134</td>\n",
       "    </tr>\n",
       "  </tbody>\n",
       "</table>\n",
       "</div>"
      ],
      "text/plain": [
       "        Date  Electricity Price\n",
       "0 2020-01-01              0.134\n",
       "1 2020-01-02              0.134\n",
       "2 2020-01-03              0.134\n",
       "3 2020-01-04              0.134\n",
       "4 2020-01-05              0.134"
      ]
     },
     "execution_count": 7,
     "metadata": {},
     "output_type": "execute_result"
    }
   ],
   "source": [
    "# filling all dates with prices, expanded monthly prices to daily prices. Assume price is constant through the month.\n",
    "elec_prices.set_index(\"Date\", inplace = True)\n",
    "elec_prices = elec_prices.resample('D').first().ffill()\n",
    "elec_prices = elec_prices.reset_index(drop= False)\n",
    "elec_prices.head()"
   ]
  },
  {
   "cell_type": "code",
   "execution_count": 8,
   "metadata": {},
   "outputs": [],
   "source": [
    "# removed additional december data since all info is filled\n",
    "elec_prices = elec_prices[:-1]\n",
    "elec_prices[\"Date\"] = elec_prices[\"Date\"].apply(lambda x: x.replace(tzinfo=None))"
   ]
  },
  {
   "cell_type": "code",
   "execution_count": 9,
   "metadata": {},
   "outputs": [
    {
     "data": {
      "text/plain": [
       "(0   2020-08-24\n",
       " Name: Date, dtype: datetime64[ns],\n",
       " 783   2022-10-16\n",
       " Name: Date, dtype: datetime64[ns])"
      ]
     },
     "execution_count": 9,
     "metadata": {},
     "output_type": "execute_result"
    }
   ],
   "source": [
    "(consum[0:1][\"Date\"], consum[-1:][\"Date\"]) # getting the date range"
   ]
  },
  {
   "cell_type": "code",
   "execution_count": 10,
   "metadata": {},
   "outputs": [],
   "source": [
    "# getting relevant dates for electricity prices\n",
    "elec_prices_relevant = elec_prices[get_date_range(elec_prices, \"2020-08-24\", \"2022-10-16\")] "
   ]
  },
  {
   "cell_type": "code",
   "execution_count": 11,
   "metadata": {},
   "outputs": [],
   "source": [
    "final_df = pd.DataFrame(consum[\"Date\"])"
   ]
  },
  {
   "cell_type": "code",
   "execution_count": 12,
   "metadata": {},
   "outputs": [],
   "source": [
    "final_df = final_df.merge(consum[[\"Date\", \"Data storage capacity added per day\"]], on =\"Date\")\n",
    "final_df = final_df.merge(elec_prices_relevant, on=\"Date\")\n",
    "final_df = final_df.merge(filusd_relevant, on=\"Date\")"
   ]
  },
  {
   "cell_type": "code",
   "execution_count": 13,
   "metadata": {},
   "outputs": [
    {
     "data": {
      "text/html": [
       "<div>\n",
       "<style scoped>\n",
       "    .dataframe tbody tr th:only-of-type {\n",
       "        vertical-align: middle;\n",
       "    }\n",
       "\n",
       "    .dataframe tbody tr th {\n",
       "        vertical-align: top;\n",
       "    }\n",
       "\n",
       "    .dataframe thead th {\n",
       "        text-align: right;\n",
       "    }\n",
       "</style>\n",
       "<table border=\"1\" class=\"dataframe\">\n",
       "  <thead>\n",
       "    <tr style=\"text-align: right;\">\n",
       "      <th></th>\n",
       "      <th>Date</th>\n",
       "      <th>Data storage capacity added per day</th>\n",
       "      <th>Electricity Price</th>\n",
       "      <th>FIL Price</th>\n",
       "      <th>Log Returns</th>\n",
       "    </tr>\n",
       "  </thead>\n",
       "  <tbody>\n",
       "    <tr>\n",
       "      <th>0</th>\n",
       "      <td>2020-08-24</td>\n",
       "      <td>2053024</td>\n",
       "      <td>0.137</td>\n",
       "      <td>22.020189</td>\n",
       "      <td>0.072989</td>\n",
       "    </tr>\n",
       "    <tr>\n",
       "      <th>1</th>\n",
       "      <td>2020-08-25</td>\n",
       "      <td>13984256</td>\n",
       "      <td>0.137</td>\n",
       "      <td>22.193523</td>\n",
       "      <td>0.007841</td>\n",
       "    </tr>\n",
       "    <tr>\n",
       "      <th>2</th>\n",
       "      <td>2020-08-26</td>\n",
       "      <td>13212864</td>\n",
       "      <td>0.137</td>\n",
       "      <td>21.462585</td>\n",
       "      <td>-0.033489</td>\n",
       "    </tr>\n",
       "    <tr>\n",
       "      <th>3</th>\n",
       "      <td>2020-08-27</td>\n",
       "      <td>14277536</td>\n",
       "      <td>0.137</td>\n",
       "      <td>22.159378</td>\n",
       "      <td>0.031950</td>\n",
       "    </tr>\n",
       "    <tr>\n",
       "      <th>4</th>\n",
       "      <td>2020-08-28</td>\n",
       "      <td>16174560</td>\n",
       "      <td>0.137</td>\n",
       "      <td>24.273489</td>\n",
       "      <td>0.091124</td>\n",
       "    </tr>\n",
       "  </tbody>\n",
       "</table>\n",
       "</div>"
      ],
      "text/plain": [
       "        Date  Data storage capacity added per day  Electricity Price  \\\n",
       "0 2020-08-24                              2053024              0.137   \n",
       "1 2020-08-25                             13984256              0.137   \n",
       "2 2020-08-26                             13212864              0.137   \n",
       "3 2020-08-27                             14277536              0.137   \n",
       "4 2020-08-28                             16174560              0.137   \n",
       "\n",
       "   FIL Price  Log Returns  \n",
       "0  22.020189     0.072989  \n",
       "1  22.193523     0.007841  \n",
       "2  21.462585    -0.033489  \n",
       "3  22.159378     0.031950  \n",
       "4  24.273489     0.091124  "
      ]
     },
     "execution_count": 13,
     "metadata": {},
     "output_type": "execute_result"
    }
   ],
   "source": [
    "final_df.head()"
   ]
  },
  {
   "cell_type": "code",
   "execution_count": 15,
   "metadata": {},
   "outputs": [
    {
     "data": {
      "text/html": [
       "<div>\n",
       "<style scoped>\n",
       "    .dataframe tbody tr th:only-of-type {\n",
       "        vertical-align: middle;\n",
       "    }\n",
       "\n",
       "    .dataframe tbody tr th {\n",
       "        vertical-align: top;\n",
       "    }\n",
       "\n",
       "    .dataframe thead th {\n",
       "        text-align: right;\n",
       "    }\n",
       "</style>\n",
       "<table border=\"1\" class=\"dataframe\">\n",
       "  <thead>\n",
       "    <tr style=\"text-align: right;\">\n",
       "      <th></th>\n",
       "      <th>Electricity Price</th>\n",
       "      <th>Data storage capacity added per day</th>\n",
       "      <th>FIL Price</th>\n",
       "    </tr>\n",
       "  </thead>\n",
       "  <tbody>\n",
       "    <tr>\n",
       "      <th>Electricity Price</th>\n",
       "      <td>1.000000</td>\n",
       "      <td>-0.233921</td>\n",
       "      <td>-0.464394</td>\n",
       "    </tr>\n",
       "    <tr>\n",
       "      <th>Data storage capacity added per day</th>\n",
       "      <td>-0.233921</td>\n",
       "      <td>1.000000</td>\n",
       "      <td>0.583667</td>\n",
       "    </tr>\n",
       "    <tr>\n",
       "      <th>FIL Price</th>\n",
       "      <td>-0.464394</td>\n",
       "      <td>0.583667</td>\n",
       "      <td>1.000000</td>\n",
       "    </tr>\n",
       "  </tbody>\n",
       "</table>\n",
       "</div>"
      ],
      "text/plain": [
       "                                     Electricity Price  \\\n",
       "Electricity Price                             1.000000   \n",
       "Data storage capacity added per day          -0.233921   \n",
       "FIL Price                                    -0.464394   \n",
       "\n",
       "                                     Data storage capacity added per day  \\\n",
       "Electricity Price                                              -0.233921   \n",
       "Data storage capacity added per day                             1.000000   \n",
       "FIL Price                                                       0.583667   \n",
       "\n",
       "                                     FIL Price  \n",
       "Electricity Price                    -0.464394  \n",
       "Data storage capacity added per day   0.583667  \n",
       "FIL Price                             1.000000  "
      ]
     },
     "execution_count": 15,
     "metadata": {},
     "output_type": "execute_result"
    }
   ],
   "source": [
    "final_df[[\"Electricity Price\", \"Data storage capacity added per day\", \"FIL Price\"]].corr()"
   ]
  },
  {
   "cell_type": "code",
   "execution_count": null,
   "metadata": {},
   "outputs": [],
   "source": [
    "# Hypothesis: Data Storage Capacity added per day is dependent on the price of FIL & cost of electricity. \n",
    "# Miners are tied down to deals that require them to provide storage for a specified amount of time.\n",
    "# Thus, a miner can only decide to stop adding Storage Capacity once the deal expires OR \n",
    "# if they completely decide to abandon the deal. I would assume that the latter (if chosen done) would \n",
    "# be reviewed on a weekly basis. Deals are minimum of 180 Days, so assuming the former is infeasible with\n",
    "# the limited data on hand.\n",
    "\n",
    "# ie; Higher the price of FIL (from 7 days ago), SP is more likely to add storage since more revenue is generated\n",
    "# ie; Higher the price of electricity (from 7 days ago), SP is less likely to add storage since its costlier to do so.\n",
    "# A simple formula would be: a*priceOfFIL(t-7) - b*priceOfElectricity(t-7) = Data Storage Capacity added per day(time = t)"
   ]
  },
  {
   "cell_type": "code",
   "execution_count": 34,
   "metadata": {},
   "outputs": [],
   "source": [
    "final_df[\"Electricity Price 7 Days Prior\"] = final_df[\"Electricity Price\"].shift(7)\n",
    "final_df[\"FIL Price 7 Days Prior\"] = final_df[\"FIL Price\"].shift(7)"
   ]
  },
  {
   "cell_type": "code",
   "execution_count": 35,
   "metadata": {},
   "outputs": [
    {
     "data": {
      "image/png": "[encoded data removed]",
      "text/plain": [
       "<Figure size 720x504 with 2 Axes>"
      ]
     },
     "metadata": {
      "needs_background": "light"
     },
     "output_type": "display_data"
    }
   ],
   "source": [
    "fig, ax1 = plt.subplots(figsize=(10,7))\n",
    "\n",
    "color = 'tab:blue'\n",
    "ax1.set_xlabel('Date')\n",
    "ax1.set_ylabel('Elec Price', color=color)\n",
    "ax1.plot(final_df['Date'], final_df[\"Electricity Price 7 Days Prior\"], color=color)\n",
    "ax1.tick_params(axis='y', labelcolor=color)\n",
    "\n",
    "ax2 = ax1.twinx()\n",
    "color = 'tab:red'\n",
    "ax2.set_ylabel('Data storage capacity added per day', color=color)  # we already handled the x-label with ax1\n",
    "ax2.plot(final_df['Date'], final_df['Data storage capacity added per day'], color=color)\n",
    "\n",
    "fig.tight_layout()\n",
    "\n",
    "plt.show()\n"
   ]
  },
  {
   "cell_type": "code",
   "execution_count": 36,
   "metadata": {},
   "outputs": [
    {
     "data": {
      "text/plain": [
       "Text(0, 0.5, 'Data storage capacity added per day')"
      ]
     },
     "execution_count": 36,
     "metadata": {},
     "output_type": "execute_result"
    },
    {
     "data": {
      "image/png": "[encoded data removed]",
      "text/plain": [
       "<Figure size 432x288 with 1 Axes>"
      ]
     },
     "metadata": {
      "needs_background": "light"
     },
     "output_type": "display_data"
    }
   ],
   "source": [
    "plt.scatter(x=final_df[\"FIL Price 7 Days Prior\"], y=final_df['Data storage capacity added per day'])\n",
    "plt.xlabel(\"FIL Price\") #x label\n",
    "plt.ylabel(\"Data storage capacity added per day\") #y label"
   ]
  },
  {
   "cell_type": "code",
   "execution_count": 38,
   "metadata": {},
   "outputs": [
    {
     "data": {
      "text/plain": [
       "Text(0, 0.5, 'Data storage capacity added per day')"
      ]
     },
     "execution_count": 38,
     "metadata": {},
     "output_type": "execute_result"
    },
    {
     "data": {
      "image/png": "[encoded data removed]",
      "text/plain": [
       "<Figure size 432x288 with 1 Axes>"
      ]
     },
     "metadata": {
      "needs_background": "light"
     },
     "output_type": "display_data"
    }
   ],
   "source": [
    "plt.scatter(x=final_df[\"Electricity Price 7 Days Prior\"], y=final_df['Data storage capacity added per day'])\n",
    "plt.xlabel(\"Electricity Price\") #x label\n",
    "plt.ylabel(\"Data storage capacity added per day\") #y label"
   ]
  },
  {
   "cell_type": "code",
   "execution_count": 60,
   "metadata": {},
   "outputs": [],
   "source": [
    "final_df_dropped = final_df.dropna(how= \"all\")"
   ]
  },
  {
   "cell_type": "code",
   "execution_count": 61,
   "metadata": {},
   "outputs": [],
   "source": [
    "X_train, X_test, y_train, y_test = train_test_split(final_df_dropped[[\"Electricity Price\", \"FIL Price\"]], final_df_dropped[\"Data storage capacity added per day\"], test_size=0.20, shuffle=False)"
   ]
  },
  {
   "cell_type": "code",
   "execution_count": 64,
   "metadata": {},
   "outputs": [
    {
     "data": {
      "text/plain": [
       "LinearRegression()"
      ]
     },
     "execution_count": 64,
     "metadata": {},
     "output_type": "execute_result"
    }
   ],
   "source": [
    "regressor = LinearRegression()  \n",
    "regressor.fit(X_train, y_train)"
   ]
  },
  {
   "cell_type": "code",
   "execution_count": 65,
   "metadata": {},
   "outputs": [],
   "source": [
    "y_pred = regressor.predict(X_test)"
   ]
  },
  {
   "cell_type": "code",
   "execution_count": 68,
   "metadata": {},
   "outputs": [
    {
     "data": {
      "text/html": [
       "<div>\n",
       "<style scoped>\n",
       "    .dataframe tbody tr th:only-of-type {\n",
       "        vertical-align: middle;\n",
       "    }\n",
       "\n",
       "    .dataframe tbody tr th {\n",
       "        vertical-align: top;\n",
       "    }\n",
       "\n",
       "    .dataframe thead th {\n",
       "        text-align: right;\n",
       "    }\n",
       "</style>\n",
       "<table border=\"1\" class=\"dataframe\">\n",
       "  <thead>\n",
       "    <tr style=\"text-align: right;\">\n",
       "      <th></th>\n",
       "      <th>Actual</th>\n",
       "      <th>Predicted</th>\n",
       "    </tr>\n",
       "  </thead>\n",
       "  <tbody>\n",
       "    <tr>\n",
       "      <th>627</th>\n",
       "      <td>31479680</td>\n",
       "      <td>3.814396e+07</td>\n",
       "    </tr>\n",
       "    <tr>\n",
       "      <th>628</th>\n",
       "      <td>30097664</td>\n",
       "      <td>3.816210e+07</td>\n",
       "    </tr>\n",
       "    <tr>\n",
       "      <th>629</th>\n",
       "      <td>29777728</td>\n",
       "      <td>3.823757e+07</td>\n",
       "    </tr>\n",
       "    <tr>\n",
       "      <th>630</th>\n",
       "      <td>31650496</td>\n",
       "      <td>3.804624e+07</td>\n",
       "    </tr>\n",
       "    <tr>\n",
       "      <th>631</th>\n",
       "      <td>31421536</td>\n",
       "      <td>3.811095e+07</td>\n",
       "    </tr>\n",
       "    <tr>\n",
       "      <th>...</th>\n",
       "      <td>...</td>\n",
       "      <td>...</td>\n",
       "    </tr>\n",
       "    <tr>\n",
       "      <th>779</th>\n",
       "      <td>11987424</td>\n",
       "      <td>5.227223e+07</td>\n",
       "    </tr>\n",
       "    <tr>\n",
       "      <th>780</th>\n",
       "      <td>12611296</td>\n",
       "      <td>5.227052e+07</td>\n",
       "    </tr>\n",
       "    <tr>\n",
       "      <th>781</th>\n",
       "      <td>12329664</td>\n",
       "      <td>5.225550e+07</td>\n",
       "    </tr>\n",
       "    <tr>\n",
       "      <th>782</th>\n",
       "      <td>12360032</td>\n",
       "      <td>5.228067e+07</td>\n",
       "    </tr>\n",
       "    <tr>\n",
       "      <th>783</th>\n",
       "      <td>7650816</td>\n",
       "      <td>5.227391e+07</td>\n",
       "    </tr>\n",
       "  </tbody>\n",
       "</table>\n",
       "<p>157 rows × 2 columns</p>\n",
       "</div>"
      ],
      "text/plain": [
       "       Actual     Predicted\n",
       "627  31479680  3.814396e+07\n",
       "628  30097664  3.816210e+07\n",
       "629  29777728  3.823757e+07\n",
       "630  31650496  3.804624e+07\n",
       "631  31421536  3.811095e+07\n",
       "..        ...           ...\n",
       "779  11987424  5.227223e+07\n",
       "780  12611296  5.227052e+07\n",
       "781  12329664  5.225550e+07\n",
       "782  12360032  5.228067e+07\n",
       "783   7650816  5.227391e+07\n",
       "\n",
       "[157 rows x 2 columns]"
      ]
     },
     "execution_count": 68,
     "metadata": {},
     "output_type": "execute_result"
    }
   ],
   "source": [
    "df = pd.DataFrame({'Actual': y_test, 'Predicted': y_pred.flatten()})\n",
    "df"
   ]
  },
  {
   "cell_type": "code",
   "execution_count": 74,
   "metadata": {},
   "outputs": [
    {
     "data": {
      "image/png": "[encoded data removed]",
      "text/plain": [
       "<Figure size 432x288 with 1 Axes>"
      ]
     },
     "metadata": {
      "needs_background": "light"
     },
     "output_type": "display_data"
    }
   ],
   "source": [
    "plt.plot(df[\"Predicted\"])\n",
    "plt.plot(df[\"Actual\"], color=\"red\")\n",
    "plt.show()"
   ]
  },
  {
   "cell_type": "code",
   "execution_count": 79,
   "metadata": {},
   "outputs": [
    {
     "name": "stdout",
     "output_type": "stream",
     "text": [
      "Mean Absolute Error: 31105557.833508827\n",
      "Mean Squared Error: 1104905958162077.8\n",
      "Root Mean Squared Error: 33240125.72422189\n"
     ]
    }
   ],
   "source": [
    "print('Mean Absolute Error:', metrics.mean_absolute_error(y_test, y_pred))  \n",
    "print('Mean Squared Error:', metrics.mean_squared_error(y_test, y_pred))  \n",
    "print('Root Mean Squared Error:', np.sqrt(metrics.mean_squared_error(y_test, y_pred)))\n"
   ]
  },
  {
   "cell_type": "code",
   "execution_count": null,
   "metadata": {},
   "outputs": [],
   "source": [
    "# Absolutely horrible results but I did not have the time to further look into other ML algorithms such an LSTM with some Time Series Forecasting."
   ]
  }
 ],
 "metadata": {
  "kernelspec": {
   "display_name": "base",
   "language": "python",
   "name": "python3"
  },
  "language_info": {
   "codemirror_mode": {
    "name": "ipython",
    "version": 3
   },
   "file_extension": ".py",
   "mimetype": "text/x-python",
   "name": "python",
   "nbconvert_exporter": "python",
   "pygments_lexer": "ipython3",
   "version": "3.7.4"
  },
  "orig_nbformat": 4,
  "vscode": {
   "interpreter": {
    "hash": "3926a454e6f305e3fd7820c6aac3c4b60cb3aed932b8f3797d912b033336821e"
   }
  }
 },
 "nbformat": 4,
 "nbformat_minor": 2
}
